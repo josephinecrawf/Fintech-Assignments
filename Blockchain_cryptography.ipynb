{
  "nbformat": 4,
  "nbformat_minor": 0,
  "metadata": {
    "colab": {
      "name": "Blockchain_cryptography.ipynb",
<<<<<<< HEAD
      "provenance": []
=======
      "provenance": [],
      "authorship_tag": "ABX9TyNV1N3vjS/iTtAOiyCQrgVE",
      "include_colab_link": true
>>>>>>> 87015a46345de80a63702e22589fdd158027d0ae
    },
    "kernelspec": {
      "name": "python3",
      "display_name": "Python 3"
    }
  },
  "cells": [
    {
<<<<<<< HEAD
=======
      "cell_type": "markdown",
      "metadata": {
        "id": "view-in-github",
        "colab_type": "text"
      },
      "source": [
        "<a href=\"https://colab.research.google.com/github/josephinecrawf/Fintech-Assignments/blob/main/Blockchain_cryptography.ipynb\" target=\"_parent\"><img src=\"https://colab.research.google.com/assets/colab-badge.svg\" alt=\"Open In Colab\"/></a>"
      ]
    },
    {
>>>>>>> 87015a46345de80a63702e22589fdd158027d0ae
      "cell_type": "code",
      "metadata": {
        "id": "ywbC6pyl9eJN"
      },
      "source": [
        "from sympy import mod_inverse\n",
        "import hashlib"
      ],
<<<<<<< HEAD
      "execution_count": null,
=======
      "execution_count": 10,
>>>>>>> 87015a46345de80a63702e22589fdd158027d0ae
      "outputs": []
    },
    {
      "cell_type": "code",
      "metadata": {
        "id": "D_TCC06f9vUO"
      },
      "source": [
        "p = 112481050639317229656723018120659623829736571015511322021617837187076258724819\n",
        "q = 89185111938335771293328323333111422985697062149139368049232365065924632677343"
      ],
<<<<<<< HEAD
      "execution_count": null,
=======
      "execution_count": 11,
>>>>>>> 87015a46345de80a63702e22589fdd158027d0ae
      "outputs": []
    },
    {
      "cell_type": "code",
      "metadata": {
        "colab": {
          "base_uri": "https://localhost:8080/"
        },
        "id": "5zjEsXJo-Avb",
        "outputId": "08121464-4309-4faf-c6fa-d8447a881d3c"
      },
      "source": [
        "#PART 1: PUBLIC KEYS n and e\n",
        "n = p*q\n",
        "print (n)\n",
        "e = 65537"
      ],
<<<<<<< HEAD
      "execution_count": null,
=======
      "execution_count": 12,
>>>>>>> 87015a46345de80a63702e22589fdd158027d0ae
      "outputs": [
        {
          "output_type": "stream",
          "text": [
            "10031635092209121498674987861649022163771061565130441373555584537047455688991931937563110507506652959265182705476941444174840580049331773111276155053075917\n"
          ],
          "name": "stdout"
        }
      ]
    },
    {
      "cell_type": "code",
      "metadata": {
        "colab": {
          "base_uri": "https://localhost:8080/"
        },
        "id": "iP0Vp6xg-FWH",
        "outputId": "99f80236-95b2-439e-c3e9-0f4b36eb0ee3"
      },
      "source": [
        "#PART 1: PRIVATE KEY d\n",
        "d = mod_inverse(e,(p-1)*(q-1))\n",
        "print(d)"
      ],
<<<<<<< HEAD
      "execution_count": null,
=======
      "execution_count": 13,
>>>>>>> 87015a46345de80a63702e22589fdd158027d0ae
      "outputs": [
        {
          "output_type": "stream",
          "text": [
            "6886694454027199678759881881737814611139109676622117091683160716943132564863007715345245794849719693156483947830169207322284232384798025277322134502462181\n"
          ],
          "name": "stdout"
        }
      ]
    },
    {
      "cell_type": "code",
      "metadata": {
        "colab": {
          "base_uri": "https://localhost:8080/"
        },
        "id": "ouZILwyb_-R8",
        "outputId": "dc614936-fcdc-441f-cce1-e826afa882ba"
      },
      "source": [
        "#PART 2: ENCRYPTION\n",
        "message=\"Running late. Wait for me.\"\n",
        "message_byte = message.encode()\n",
        "message_int = int.from_bytes(message_byte, byteorder = \"big\")\n",
        "print(message_int)\n",
        "c = pow(message_int, e, n)\n",
        "print(c)\n"
      ],
<<<<<<< HEAD
      "execution_count": null,
=======
      "execution_count": 14,
>>>>>>> 87015a46345de80a63702e22589fdd158027d0ae
      "outputs": [
        {
          "output_type": "stream",
          "text": [
            "132506048299782729601861890795689101374996562756163152523388206\n",
            "5628730804056595371855684110576266781276706571005479901402626056646581913671537162886477174980769106939051646161443333500500835847610834908579566064478525\n"
          ],
          "name": "stdout"
        }
      ]
    },
    {
      "cell_type": "code",
      "metadata": {
        "colab": {
          "base_uri": "https://localhost:8080/"
        },
        "id": "gA9-UucoBU4W",
<<<<<<< HEAD
        "outputId": "951de6ac-d367-4e1b-a482-b71045076278"
=======
        "outputId": "f66b5ffe-acff-4c3d-920d-79b643d4198f"
>>>>>>> 87015a46345de80a63702e22589fdd158027d0ae
      },
      "source": [
        "#PART 3: DECRYPTION\n",
        "m = 9029727923340384868426518880554167882611943065703927838617521515742066859974885947494642963883568408240430125599636824996577080116022919050269017033777667\n",
        "print(m)\n",
<<<<<<< HEAD
        "dec= pow(m,d,n)\n",
=======
        "dec= pow(c,d,n)\n",
>>>>>>> 87015a46345de80a63702e22589fdd158027d0ae
        "print(dec)\n",
        "dec_byte= dec.to_bytes((dec.bit_length()+7)//8,\"big\")\n",
        "print(dec_byte)\n",
        "dec_string=dec_byte.decode()\n",
        "print(dec_string)"
      ],
<<<<<<< HEAD
      "execution_count": null,
=======
      "execution_count": 16,
>>>>>>> 87015a46345de80a63702e22589fdd158027d0ae
      "outputs": [
        {
          "output_type": "stream",
          "text": [
            "9029727923340384868426518880554167882611943065703927838617521515742066859974885947494642963883568408240430125599636824996577080116022919050269017033777667\n",
<<<<<<< HEAD
            "10379239283949190299324585217417527333611865033913961921777380620540196660845060254260080139215244456258730728056097\n",
            "b'Congrats! You just decrypted your first message!'\n",
            "Congrats! You just decrypted your first message!\n"
=======
            "132506048299782729601861890795689101374996562756163152523388206\n",
            "b'Running late. Wait for me.'\n",
            "Running late. Wait for me.\n"
>>>>>>> 87015a46345de80a63702e22589fdd158027d0ae
          ],
          "name": "stdout"
        }
      ]
    },
    {
      "cell_type": "code",
      "metadata": {
        "colab": {
          "base_uri": "https://localhost:8080/"
        },
        "id": "hiqcFaVkf--2",
<<<<<<< HEAD
        "outputId": "5f4d3637-f69f-414b-b8a6-76c491bb69c8"
=======
        "outputId": "eccee3a5-62ea-4ec1-81e5-a9b5ceabcc61"
>>>>>>> 87015a46345de80a63702e22589fdd158027d0ae
      },
      "source": [
        "#PART 4: SIGN A MESSAGE\n",
        "m = hashlib.sha256()\n",
        "m_hash = m.hexdigest()\n",
        "print(m_hash)\n",
        "m_byte = str.encode(m_hash)\n",
        "m_int = int.from_bytes(m_byte,\"big\")\n",
        "print(m_int)\n",
        "#s = m_hash^d mod n\n",
        "s=pow(m_int,d,n)\n"
      ],
<<<<<<< HEAD
      "execution_count": null,
=======
      "execution_count": 17,
>>>>>>> 87015a46345de80a63702e22589fdd158027d0ae
      "outputs": [
        {
          "output_type": "stream",
          "text": [
            "e3b0c44298fc1c149afbf4c8996fb92427ae41e4649b934ca495991b7852b855\n",
            "5300311624404120339643759675580892106151993217598347473831522009076227719418703979057961506451263634741480139384895624019634931128650369900112059303474485\n"
          ],
          "name": "stdout"
        }
      ]
    },
    {
      "cell_type": "code",
      "metadata": {
        "colab": {
          "base_uri": "https://localhost:8080/"
        },
        "id": "DSQ9Tqo9hoCF",
<<<<<<< HEAD
        "outputId": "2edfed39-5db6-4960-99db-228101e8898d"
=======
        "outputId": "679d1746-9c05-4cdf-919f-58497a8d21fe"
>>>>>>> 87015a46345de80a63702e22589fdd158027d0ae
      },
      "source": [
        "#PART 5: VERIFY A MESSAGE\n",
        "#check that m_int = s^e mod n\n",
        "print(m_int)\n",
        "v=pow(s,e,n)\n",
        "print(v)\n",
        "#signature is valid"
      ],
<<<<<<< HEAD
      "execution_count": null,
=======
      "execution_count": 18,
>>>>>>> 87015a46345de80a63702e22589fdd158027d0ae
      "outputs": [
        {
          "output_type": "stream",
          "text": [
            "5300311624404120339643759675580892106151993217598347473831522009076227719418703979057961506451263634741480139384895624019634931128650369900112059303474485\n",
            "5300311624404120339643759675580892106151993217598347473831522009076227719418703979057961506451263634741480139384895624019634931128650369900112059303474485\n"
          ],
          "name": "stdout"
        }
      ]
    }
  ]
}