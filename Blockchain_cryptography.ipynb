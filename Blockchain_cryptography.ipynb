{
  "nbformat": 4,
  "nbformat_minor": 0,
  "metadata": {
    "colab": {
      "name": "Blockchain_cryptography.ipynb",
      "provenance": []
    },
    "kernelspec": {
      "name": "python3",
      "display_name": "Python 3"
    }
  },
  "cells": [
    {
      "cell_type": "code",
      "metadata": {
        "id": "ywbC6pyl9eJN"
      },
      "source": [
        "from sympy import mod_inverse\n",
        "import hashlib"
      ],
      "execution_count": null,
      "outputs": []
    },
    {
      "cell_type": "code",
      "metadata": {
        "id": "D_TCC06f9vUO"
      },
      "source": [
        "p = 112481050639317229656723018120659623829736571015511322021617837187076258724819\n",
        "q = 89185111938335771293328323333111422985697062149139368049232365065924632677343"
      ],
      "execution_count": null,
      "outputs": []
    },
    {
      "cell_type": "code",
      "metadata": {
        "colab": {
          "base_uri": "https://localhost:8080/"
        },
        "id": "5zjEsXJo-Avb",
        "outputId": "08121464-4309-4faf-c6fa-d8447a881d3c"
      },
      "source": [
        "#PART 1: PUBLIC KEYS n and e\n",
        "n = p*q\n",
        "print (n)\n",
        "e = 65537"
      ],
      "execution_count": null,
      "outputs": [
        {
          "output_type": "stream",
          "text": [
            "10031635092209121498674987861649022163771061565130441373555584537047455688991931937563110507506652959265182705476941444174840580049331773111276155053075917\n"
          ],
          "name": "stdout"
        }
      ]
    },
    {
      "cell_type": "code",
      "metadata": {
        "colab": {
          "base_uri": "https://localhost:8080/"
        },
        "id": "iP0Vp6xg-FWH",
        "outputId": "99f80236-95b2-439e-c3e9-0f4b36eb0ee3"
      },
      "source": [
        "#PART 1: PRIVATE KEY d\n",
        "d = mod_inverse(e,(p-1)*(q-1))\n",
        "print(d)"
      ],
      "execution_count": null,
      "outputs": [
        {
          "output_type": "stream",
          "text": [
            "6886694454027199678759881881737814611139109676622117091683160716943132564863007715345245794849719693156483947830169207322284232384798025277322134502462181\n"
          ],
          "name": "stdout"
        }
      ]
    },
    {
      "cell_type": "code",
      "metadata": {
        "colab": {
          "base_uri": "https://localhost:8080/"
        },
        "id": "ouZILwyb_-R8",
        "outputId": "dc614936-fcdc-441f-cce1-e826afa882ba"
      },
      "source": [
        "#PART 2: ENCRYPTION\n",
        "message=\"Running late. Wait for me.\"\n",
        "message_byte = message.encode()\n",
        "message_int = int.from_bytes(message_byte, byteorder = \"big\")\n",
        "print(message_int)\n",
        "c = pow(message_int, e, n)\n",
        "print(c)\n"
      ],
      "execution_count": null,
      "outputs": [
        {
          "output_type": "stream",
          "text": [
            "132506048299782729601861890795689101374996562756163152523388206\n",
            "5628730804056595371855684110576266781276706571005479901402626056646581913671537162886477174980769106939051646161443333500500835847610834908579566064478525\n"
          ],
          "name": "stdout"
        }
      ]
    },
    {
      "cell_type": "code",
      "metadata": {
        "colab": {
          "base_uri": "https://localhost:8080/"
        },
        "id": "gA9-UucoBU4W",
        "outputId": "951de6ac-d367-4e1b-a482-b71045076278"
      },
      "source": [
        "#PART 3: DECRYPTION\n",
        "m = 9029727923340384868426518880554167882611943065703927838617521515742066859974885947494642963883568408240430125599636824996577080116022919050269017033777667\n",
        "print(m)\n",
        "dec= pow(m,d,n)\n",
        "print(dec)\n",
        "dec_byte= dec.to_bytes((dec.bit_length()+7)//8,\"big\")\n",
        "print(dec_byte)\n",
        "dec_string=dec_byte.decode()\n",
        "print(dec_string)"
      ],
      "execution_count": null,
      "outputs": [
        {
          "output_type": "stream",
          "text": [
            "9029727923340384868426518880554167882611943065703927838617521515742066859974885947494642963883568408240430125599636824996577080116022919050269017033777667\n",
            "10379239283949190299324585217417527333611865033913961921777380620540196660845060254260080139215244456258730728056097\n",
            "b'Congrats! You just decrypted your first message!'\n",
            "Congrats! You just decrypted your first message!\n"
          ],
          "name": "stdout"
        }
      ]
    },
    {
      "cell_type": "code",
      "metadata": {
        "colab": {
          "base_uri": "https://localhost:8080/"
        },
        "id": "hiqcFaVkf--2",
        "outputId": "5f4d3637-f69f-414b-b8a6-76c491bb69c8"
      },
      "source": [
        "#PART 4: SIGN A MESSAGE\n",
        "m = hashlib.sha256()\n",
        "m_hash = m.hexdigest()\n",
        "print(m_hash)\n",
        "m_byte = str.encode(m_hash)\n",
        "m_int = int.from_bytes(m_byte,\"big\")\n",
        "print(m_int)\n",
        "#s = m_hash^d mod n\n",
        "s=pow(m_int,d,n)\n"
      ],
      "execution_count": null,
      "outputs": [
        {
          "output_type": "stream",
          "text": [
            "e3b0c44298fc1c149afbf4c8996fb92427ae41e4649b934ca495991b7852b855\n",
            "5300311624404120339643759675580892106151993217598347473831522009076227719418703979057961506451263634741480139384895624019634931128650369900112059303474485\n"
          ],
          "name": "stdout"
        }
      ]
    },
    {
      "cell_type": "code",
      "metadata": {
        "colab": {
          "base_uri": "https://localhost:8080/"
        },
        "id": "DSQ9Tqo9hoCF",
        "outputId": "2edfed39-5db6-4960-99db-228101e8898d"
      },
      "source": [
        "#PART 5: VERIFY A MESSAGE\n",
        "#check that m_int = s^e mod n\n",
        "print(m_int)\n",
        "v=pow(s,e,n)\n",
        "print(v)\n",
        "#signature is valid"
      ],
      "execution_count": null,
      "outputs": [
        {
          "output_type": "stream",
          "text": [
            "5300311624404120339643759675580892106151993217598347473831522009076227719418703979057961506451263634741480139384895624019634931128650369900112059303474485\n",
            "5300311624404120339643759675580892106151993217598347473831522009076227719418703979057961506451263634741480139384895624019634931128650369900112059303474485\n"
          ],
          "name": "stdout"
        }
      ]
    }
  ]
}